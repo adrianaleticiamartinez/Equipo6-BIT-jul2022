{
 "cells": [
  {
   "cell_type": "code",
   "execution_count": 8,
   "metadata": {},
   "outputs": [
    {
     "data": {
      "text/html": [
       "<div>\n",
       "<style scoped>\n",
       "    .dataframe tbody tr th:only-of-type {\n",
       "        vertical-align: middle;\n",
       "    }\n",
       "\n",
       "    .dataframe tbody tr th {\n",
       "        vertical-align: top;\n",
       "    }\n",
       "\n",
       "    .dataframe thead th {\n",
       "        text-align: right;\n",
       "    }\n",
       "</style>\n",
       "<table border=\"1\" class=\"dataframe\">\n",
       "  <thead>\n",
       "    <tr style=\"text-align: right;\">\n",
       "      <th></th>\n",
       "      <th>id</th>\n",
       "      <th>idCliente</th>\n",
       "      <th>nombre</th>\n",
       "      <th>apellidoPaterno</th>\n",
       "      <th>apellidoMaterno</th>\n",
       "      <th>fechaNacimiento</th>\n",
       "      <th>sexo</th>\n",
       "      <th>segmento</th>\n",
       "      <th>nacionalidad</th>\n",
       "      <th>rfc</th>\n",
       "      <th>tipoID</th>\n",
       "      <th>numeroID</th>\n",
       "      <th>cuenta</th>\n",
       "      <th>email</th>\n",
       "      <th>TDD</th>\n",
       "    </tr>\n",
       "  </thead>\n",
       "  <tbody>\n",
       "    <tr>\n",
       "      <th>0</th>\n",
       "      <td>1</td>\n",
       "      <td>AU000</td>\n",
       "      <td>Prueba</td>\n",
       "      <td>Lopes</td>\n",
       "      <td>Lol</td>\n",
       "      <td>1998-09-21</td>\n",
       "      <td>F</td>\n",
       "      <td>1</td>\n",
       "      <td>Mexicana</td>\n",
       "      <td>uhsuiwhu</td>\n",
       "      <td>uh</td>\n",
       "      <td>787767</td>\n",
       "      <td>vg</td>\n",
       "      <td>gffgfgf@w</td>\n",
       "      <td>q</td>\n",
       "    </tr>\n",
       "  </tbody>\n",
       "</table>\n",
       "</div>"
      ],
      "text/plain": [
       "   id idCliente  nombre apellidoPaterno apellidoMaterno fechaNacimiento sexo  \\\n",
       "0   1     AU000  Prueba           Lopes             Lol      1998-09-21    F   \n",
       "\n",
       "   segmento nacionalidad       rfc tipoID  numeroID cuenta      email TDD  \n",
       "0         1     Mexicana  uhsuiwhu     uh    787767     vg  gffgfgf@w   q  "
      ]
     },
     "execution_count": 8,
     "metadata": {},
     "output_type": "execute_result"
    }
   ],
   "source": [
    "import pandas as pd\n",
    "\n",
    "pathClientes = ('C:/Users/MIPC/Desktop/Hackaton_BBVA_2022/FormatoClientes.xlsx')\n",
    "\n",
    "pd.read_excel(pathClientes)\n",
    "\n"
   ]
  },
  {
   "cell_type": "code",
   "execution_count": 9,
   "metadata": {},
   "outputs": [
    {
     "data": {
      "text/html": [
       "<div>\n",
       "<style scoped>\n",
       "    .dataframe tbody tr th:only-of-type {\n",
       "        vertical-align: middle;\n",
       "    }\n",
       "\n",
       "    .dataframe tbody tr th {\n",
       "        vertical-align: top;\n",
       "    }\n",
       "\n",
       "    .dataframe thead th {\n",
       "        text-align: right;\n",
       "    }\n",
       "</style>\n",
       "<table border=\"1\" class=\"dataframe\">\n",
       "  <thead>\n",
       "    <tr style=\"text-align: right;\">\n",
       "      <th></th>\n",
       "      <th>id</th>\n",
       "      <th>idCliente</th>\n",
       "      <th>nombre</th>\n",
       "      <th>apellidoPaterno</th>\n",
       "      <th>apellidoMaterno</th>\n",
       "      <th>fechaNacimiento</th>\n",
       "      <th>sexo</th>\n",
       "      <th>segmento</th>\n",
       "      <th>nacionalidad</th>\n",
       "      <th>rfc</th>\n",
       "      <th>tipoID</th>\n",
       "      <th>numeroID</th>\n",
       "      <th>cuenta</th>\n",
       "      <th>email</th>\n",
       "      <th>TDD</th>\n",
       "    </tr>\n",
       "  </thead>\n",
       "  <tbody>\n",
       "    <tr>\n",
       "      <th>0</th>\n",
       "      <td>1</td>\n",
       "      <td>AU000</td>\n",
       "      <td>Prueba</td>\n",
       "      <td>Lopes</td>\n",
       "      <td>Lol</td>\n",
       "      <td>1998-09-21</td>\n",
       "      <td>F</td>\n",
       "      <td>1</td>\n",
       "      <td>Mexicana</td>\n",
       "      <td>uhsuiwhu</td>\n",
       "      <td>uh</td>\n",
       "      <td>787767</td>\n",
       "      <td>vg</td>\n",
       "      <td>gffgfgf@w</td>\n",
       "      <td>q</td>\n",
       "    </tr>\n",
       "  </tbody>\n",
       "</table>\n",
       "</div>"
      ],
      "text/plain": [
       "   id idCliente  nombre apellidoPaterno apellidoMaterno fechaNacimiento sexo  \\\n",
       "0   1     AU000  Prueba           Lopes             Lol      1998-09-21    F   \n",
       "\n",
       "   segmento nacionalidad       rfc tipoID  numeroID cuenta      email TDD  \n",
       "0         1     Mexicana  uhsuiwhu     uh    787767     vg  gffgfgf@w   q  "
      ]
     },
     "execution_count": 9,
     "metadata": {},
     "output_type": "execute_result"
    }
   ],
   "source": [
    "clientes = pd.read_excel(pathClientes)\n",
    "\n",
    "clientes.head(5)"
   ]
  },
  {
   "cell_type": "code",
   "execution_count": 14,
   "metadata": {},
   "outputs": [
    {
     "name": "stdout",
     "output_type": "stream",
     "text": [
      "   id idCliente  nombre apellidoPaterno apellidoMaterno fechaNacimiento sexo  \\\n",
      "0   1     AU000  Prueba           Lopes             Lol      1998-09-21    F   \n",
      "\n",
      "   segmento nacionalidad       rfc tipoID  numeroID cuenta      email TDD  \n",
      "0         1     Mexicana  uhsuiwhu     uh    787767     vg  gffgfgf@w   q  \n"
     ]
    }
   ],
   "source": [
    "clientes['rfc'].head()\n",
    "clientes_filtrados = clientes.query(\"idCliente == 'AU000'\")\n",
    "print(clientes_filtrados)"
   ]
  },
  {
   "cell_type": "code",
   "execution_count": 16,
   "metadata": {},
   "outputs": [
    {
     "name": "stdout",
     "output_type": "stream",
     "text": [
      "0    Prueba\n",
      "Name: nombre, dtype: object\n"
     ]
    }
   ],
   "source": [
    "perfil = clientes_filtrados['nombre']\n",
    "print(perfil)"
   ]
  },
  {
   "cell_type": "code",
   "execution_count": 17,
   "metadata": {},
   "outputs": [
    {
     "name": "stdout",
     "output_type": "stream",
     "text": [
      "datos de un perfil\n"
     ]
    }
   ],
   "source": [
    "if perfil[0] == 'Prueba':\n",
    "    print('datos de un perfil')"
   ]
  }
 ],
 "metadata": {
  "kernelspec": {
   "display_name": "Python 3.10.4 64-bit",
   "language": "python",
   "name": "python3"
  },
  "language_info": {
   "codemirror_mode": {
    "name": "ipython",
    "version": 3
   },
   "file_extension": ".py",
   "mimetype": "text/x-python",
   "name": "python",
   "nbconvert_exporter": "python",
   "pygments_lexer": "ipython3",
   "version": "3.10.4"
  },
  "orig_nbformat": 4,
  "vscode": {
   "interpreter": {
    "hash": "26de051ba29f2982a8de78e945f0abaf191376122a1563185a90213a26c5da77"
   }
  }
 },
 "nbformat": 4,
 "nbformat_minor": 2
}
